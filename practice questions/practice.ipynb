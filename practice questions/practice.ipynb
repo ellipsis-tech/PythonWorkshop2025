{
 "cells": [
  {
   "cell_type": "markdown",
   "metadata": {},
   "source": [
    "***\n",
    "# Ellipsis Python Workshop Practice Questions\n",
    "\n",
    "Welcome, Freshmen! To help you solidify your understanding of the concepts we've covered, we've prepared a set of practice questions. These questions are designed to give you hands-on experience with different aspects of Python programming. Each question will focus on a specific topic we've discussed, such as variables, data types, basic operations, strings, conditional statements, loops, functions, lists, dictionaries, type conversion, and formatted string literals (f-strings).\n",
    "\n",
    "By working through these exercises, you'll be able to:\n",
    "\n",
    "- Understand and manipulate various data types\n",
    "- Perform basic arithmetic operations\n",
    "- Work with strings and string methods\n",
    "- Implement conditional logic using if, elif, and else\n",
    "- Use loops to repeat actions and iterate over sequences\n",
    "- Define and call functions to encapsulate reusable code\n",
    "- Create and manipulate lists and dictionaries\n",
    "- Convert data between different types\n",
    "- Format strings using f-strings for readable output\n",
    "\n",
    "These practice questions will help you build a strong foundation in Python and prepare you for more advanced topics. \n",
    "\n",
    "Remember, the best way to learn programming is by doing, so don't hesitate to experiment and try out different solutions.\n",
    "\n",
    "\n",
    "***"
   ]
  },
  {
   "cell_type": "markdown",
   "metadata": {},
   "source": [
    "## 1) Variables\n",
    "\n",
    "Do you remember all the data types and how arithmatic works?\n",
    "\n",
    "Without running the script, you can type out the various <b>values</b> of the <b>variables</b> stored in memory as well as what is <b>displayed</b> on the <b>screen</b>.\n",
    "\n",
    "<i>You can use comments to take notes or to indicate answers for each question.</i>"
   ]
  },
  {
   "cell_type": "code",
   "execution_count": null,
   "metadata": {},
   "outputs": [],
   "source": [
    "# ########################################### #\n",
    "# The code below is given. Guess the output.  #\n",
    "# ########################################### #\n",
    "winx = \"club\"\n",
    "genre_1 = \"Magical girl \"\n",
    "genre_2 = \"action \"\n",
    "seasons = 8\n",
    "episodes = 208\n",
    "started = 2004\n",
    "team = 7\n",
    "trix = \"3\"\n",
    "burned = 1\n",
    "\n",
    "print(type(winx))\n",
    "# a)\n",
    "\n",
    "print(genre_1 + genre_2)\n",
    "# b)\n",
    "\n",
    "print(genre_2 * int(trix))\n",
    "# c)\n",
    "\n",
    "\n",
    "best = team + started / seasons\n",
    "print(best)\n",
    "# d)\n",
    "\n",
    "print(type(best))\n",
    "# e)\n",
    "\n",
    "\n",
    "\n",
    "print(type(burned))\n",
    "# f)\n",
    "\n",
    "print(burned ** team + episodes)\n",
    "# g)\n",
    "\n",
    "print(started % episodes / trix)\n",
    "# h)\n"
   ]
  },
  {
   "cell_type": "markdown",
   "metadata": {},
   "source": [
    "## 2) Weight on Different Planets\n",
    "\n",
    "You have been transported into the <b>star-trek universe</b> 🖖🛸\n",
    "\n",
    "Your job on the ship is to find out how much Captain Kirk weights in different planets when compared to his weight (62.9 kg) on Terra / Earth\n",
    "\n",
    "Given the formula, <b>weight = mass x gravity</b>, to assist you in your task.\n",
    "\n",
    "Here is a table of the gravity values for different planets:\n",
    "<table align=\"left\" class=\"table table-bordered\" style=\"width:40%\">\n",
    "<tr>\n",
    "<th style=\"text-align:center; width:15%\">Planet</th>\n",
    "<th style=\"text-align:center; width:20%\">Gravity in the planet</th>\n",
    "</tr>\n",
    "<tr>\n",
    "<td style=\"text-align:center;\">Terra</td>\n",
    "<td style=\"text-align:center;\">9.807</td>\n",
    "</tr>\n",
    "<tr>\n",
    "<td style=\"text-align:center;\">Vulcan</td>\n",
    "<td style=\"text-align:center;\">1.54</td>\n",
    "</tr>\n",
    "<tr>\n",
    "<td style=\"text-align:center;\">Risa</td>\n",
    "<td style=\"text-align:center;\">0.81</td>\n",
    "</tr>\n",
    "<tr>\n",
    "<td style=\"text-align:center;\">Nibiru</td>\n",
    "<td style=\"text-align:center;\">6.29</td>\n",
    "</tr>\n",
    "<tr>\n",
    "<td style=\"text-align:center;\">Eminiar VII</td>\n",
    "<td style=\"text-align:center;\">32.93</td>\n",
    "</tr>\n",
    "<tr>\n",
    "<td style=\"text-align:center;\">Remus</td>\n",
    "<td style=\"text-align:center;\">2.34</td>\n",
    "</tr>\n",
    "</table>\n",
    "<br><br><br><br><br><br><br><br><br><br>\n",
    "<h6>Note: The gravity values provided are fictional and for illustrative purposes only.</h6>"
   ]
  },
  {
   "cell_type": "code",
   "execution_count": null,
   "metadata": {},
   "outputs": [],
   "source": [
    "# Input your code here\n",
    "\n"
   ]
  },
  {
   "cell_type": "markdown",
   "metadata": {},
   "source": [
    "## 3) Ellipsis Studios World Tickets\n",
    "\n",
    "Write a function called `get_ticket_price` that calculates the ticket price for visitors to Ellipsis Studios World. 🎫🎢\n",
    "\n",
    "The function should take in two parameters:\n",
    "- `age`, an integer representing the user's age\n",
    "- `isLocal`, a string variable that takes either 'Y' (yes) or 'N' (no) to indicate if the user is a local resident.\n",
    "<br><br>\n",
    "\n",
    "Ellipsis Studios World offers the following ticket prices based on the visitor's age and residency status:\n",
    "<ul>\n",
    "<li>Local Adult (age 13 and above): $74</li>\n",
    "<li>Local Child (age 4 to 12, inclusive): $59</li>\n",
    "<li>Tourist Adult (age 13 and above): $83</li>\n",
    "<li>Tourist Child (age 4 to 12, inclusive): $62</li>\n",
    "</ul>\n",
    "\n",
    "Write the get_ticket_price function to return the appropriate ticket price based on the given inputs.\n",
    "\n",
    "<i>Assume that all inputs are valid</i>"
   ]
  },
  {
   "cell_type": "code",
   "execution_count": 20,
   "metadata": {},
   "outputs": [],
   "source": [
    "# Input your code here\n"
   ]
  },
  {
   "cell_type": "code",
   "execution_count": null,
   "metadata": {},
   "outputs": [],
   "source": [
    "# Run this to check your answer\n",
    "\n",
    "print(get_ticket_price(13,\"Y\"))\n",
    "print(get_ticket_price(4,\"N\"))\n",
    "print(get_ticket_price(90,\"N\"))\n",
    "print(get_ticket_price(11,\"Y\"))"
   ]
  },
  {
   "cell_type": "markdown",
   "metadata": {},
   "source": [
    "## 4) Message Decryption\n",
    "\n",
    "Find the original message to the encrypted message! 🗝🔒🔑 \n",
    "\n",
    "The <b>pattern</b> of the simple encryption is:\n",
    "- All the occurrences of letter 'e' in the message are replaced by 'l'\n",
    "- All the occurrences of letter 'v' in the message are replaced by 't'\n",
    "- All the occurrences of letter 'l' in the message are replaced by 'o'\n",
    "- All the occurrences of letter 't' in the message are replaced by 'b'\n",
    "- All the occurrences of letter 'o' in the message are replaced by 'u'\n",
    "- All the occurrences of letter 'b' in the message are replaced by 'r'\n",
    "- All the occurrences of letter 'u' in the message are replaced by 'e'\n",
    "- All the occurrences of letter 'r' in the message are replaced by 'v'\n",
    "\n",
    "Loop through the characters in the string `encrypted_message` and replace the appropriate letters to find the original message!"
   ]
  },
  {
   "cell_type": "code",
   "execution_count": null,
   "metadata": {},
   "outputs": [],
   "source": [
    "# Here is the given encrypted message!\n",
    "encrypted_message = \"vhuldlbu jamus eungklng is my farlobivu facie fblm muva 2024, hu is vhu covusv and vhu mlsv handslmu man i haru urub suun in my eifu!\"\n",
    "\n",
    "# Input your code here\n"
   ]
  },
  {
   "cell_type": "markdown",
   "metadata": {},
   "source": [
    "## 5) Grade Slots\n",
    "\n",
    "You are given a piece of code below that generates and displays three random numbers between 0 and 9. This is to simulate your luck for grades.\n",
    "\n",
    "🎰🤑💰\n",
    "\n",
    "Complete the code to display one of the following messages:\n",
    "\n",
    "<ul>\n",
    "<li><b>\"You got a B :(\"</b> if the three numbers are all different.</li>\n",
    "<li><b>\"An A- is also excellent\"</b> if there are two numbers that are the same.</li>\n",
    "<li><b>\"You achieved an A+ :O\"</b> if all three numbers are the same.</li>\n",
    "</ul>\n",
    "\n",
    "Python has a built-in module that you can use to make random numbers. It is indicated with `import random`, you will learn more about it in the future!"
   ]
  },
  {
   "cell_type": "code",
   "execution_count": null,
   "metadata": {},
   "outputs": [],
   "source": [
    "#This code is given | DO NOT TOUCH!!!\n",
    "import random\n",
    "num1 = random.randrange(0, 10) \n",
    "num2 = random.randrange(0, 10)\n",
    "num3 = random.randrange(0, 10)\n",
    "\n",
    "print(num1, '-', num2, '-', num3)\n",
    "\n",
    "# Input your code here\n",
    "\n",
    "\n"
   ]
  },
  {
   "cell_type": "markdown",
   "metadata": {},
   "source": [
    "## 6) Number Palindrome\n",
    "\n",
    "❌❎❌\n",
    "\n",
    "Given an integer `x`, return true if `x` is a palindrome, and false otherwise.\n",
    "\n",
    "- Example 1:\n",
    "\n",
    "    Input: `x = 121`\n",
    "\n",
    "    Output: `True`\n",
    "\n",
    "    Explanation: 121 reads as 121 from left to right and from right to left.\n",
    "<br><br>\n",
    "- Example 2:\n",
    "\n",
    "    Input: `x = -121`\n",
    "\n",
    "    Output: `False`\n",
    "\n",
    "    Explanation: From left to right, it reads -121. From right to left, it becomes 121-. Therefore it is not a palindrome.\n",
    "<br><br>\n",
    "- Example 3:\n",
    "\n",
    "    Input: `x = 10`\n",
    "\n",
    "    Output: `False`\n",
    "\n",
    "    Explanation: Reads 01 from right to left. Therefore it is not a palindrome."
   ]
  },
  {
   "cell_type": "code",
   "execution_count": 61,
   "metadata": {},
   "outputs": [],
   "source": [
    "def check_palindrome(x):\n",
    "    # Input your code here\n",
    "    # Hint: Remember how indexing works\n",
    "    pass\n"
   ]
  },
  {
   "cell_type": "code",
   "execution_count": null,
   "metadata": {},
   "outputs": [],
   "source": [
    "# Run these to check your answers!\n",
    "\n",
    "print(check_palindrome(121))\n",
    "print(check_palindrome(-121))\n",
    "print(check_palindrome(10))\n",
    "print(check_palindrome(40604))\n",
    "print(check_palindrome(9))"
   ]
  },
  {
   "cell_type": "markdown",
   "metadata": {},
   "source": [
    "## 7) Welcome to Far Far Away\n",
    "\n",
    "🫏👹🥗\n",
    "\n",
    "If you visit ✨Far Far Away✨ (Shrek), you'll need to get familiar with their currency and the various <b>precious materials</b> in circulation.  \n",
    "\n",
    "Here's a list of the mystical currency used in Far Far Away:\n",
    "<ul>\n",
    "<li>Phoenix Feather - 102 cents</li>\n",
    "<li>Dragon Scale - 74 cents</li>\n",
    "<li>Unicorn Horn - 56 cents</li>\n",
    "<li>Fairy Dust - 37 cents</li>\n",
    "<li>Goblin Teeth - 19 cents</li>\n",
    "<li>Troll Hair - 1 cent</li>\n",
    "</ul>\n",
    "\n",
    "Let's write some Python code that prompts the user for an amount to pay (in mystical units) and helps them know how many coins or notes they need to provide in each denomination to give the <b>exact change</b>.<br><br>\n",
    "\n",
    "<h4>Instructions:</h4>\n",
    "\n",
    "1. The function `calulate_mystical_currency` is provided for you, the input for is a float variable called `SGD`.\n",
    "2. Calculate the number of Phoenix Feathers, Dragon Scales, Unicorn Horns, Fairy Dusts, Goblin Teeth, and Troll Hairs needed for the exact change.\n",
    "3. Print out the number of each type of currency required.\n",
    "\n",
    "<h6><i>Bonus: Try to return the least amout of mystical currency and not return all Troll hair 😭</i></h6>"
   ]
  },
  {
   "cell_type": "code",
   "execution_count": 67,
   "metadata": {},
   "outputs": [],
   "source": [
    "def calculate_mystical_currency(SGD):\n",
    "    # Input your code here\n",
    "    pass\n"
   ]
  },
  {
   "cell_type": "code",
   "execution_count": null,
   "metadata": {},
   "outputs": [],
   "source": [
    "# Run these to check your answers!\n",
    "calculate_mystical_currency(3.89)\n",
    "calculate_mystical_currency(1.02)\n",
    "calculate_mystical_currency(0.17)"
   ]
  },
  {
   "cell_type": "markdown",
   "metadata": {},
   "source": [
    "## 8) Magical Creature Encyclopedia\n",
    "🧙‍♂️✨📚\n",
    "\n",
    "Welcome to the world of magical creatures! As an apprentice wizard, your task is to create an encyclopedia that keeps track of various magical creatures and their abilities.\n",
    "\n",
    "<h4>Instructions:</h4>\n",
    "\n",
    "1. Create a new dictionary called `creatures`\n",
    "2. Write a function called `add_creatures` that takes in two parameters: \n",
    "    - `name` which is a string variable that contains the creature's name\n",
    "    - `ability_details` which is tuple that contains two more variables:\n",
    "        - `ability` which is a string variable that contains one of the creature's ability\n",
    "        - `description` which is a string variable that contains the description of the specific ability\n",
    "    - This function should add a new entry to the `creatures` dictionary with `name` as the key and `ability_details` (as creatures can have more than one ability this should be stored as a list) as the value.\n",
    "3. Write a function called `get_creature_info` that takes in one parameter:\n",
    "    - `name` which is a string variable to identify the creature with\n",
    "    - This function should return a string with the creature's `ability` and `description` if the creature exists in the dictionary, or a message saying the creature is not found.\n",
    "    \n",
    "        \n"
   ]
  },
  {
   "cell_type": "code",
   "execution_count": null,
   "metadata": {},
   "outputs": [],
   "source": [
    "# Input your code here\n",
    "\n",
    "\n"
   ]
  },
  {
   "cell_type": "code",
   "execution_count": null,
   "metadata": {},
   "outputs": [],
   "source": [
    "# Run these to check your answers\n",
    "add_creatures(\"horse\",(\"eat hay\",\"for nutrition\"))\n",
    "add_creatures(\"horse\",(\"eat hay\",\"for nutrition\"))\n",
    "add_creatures(\"horse\",(\"sleep\",\"to recover energy\"))\n",
    "add_creatures(\"cat\",(\"meowing\",\"communication\"))\n",
    "add_creatures(\"Alpha Dragon\",(\"Fire breath\",\"Offensive attack\"))\n",
    "add_creatures(\"David\",(\"Fight for discounts\",\"signature move\"))\n",
    "print(creatures)\n",
    "print(get_creature_info(\"horse\"))\n",
    "print(get_creature_info(\"David\"))\n",
    "print(get_creature_info(\"Legendary Nibras Fish\"))"
   ]
  },
  {
   "cell_type": "markdown",
   "metadata": {},
   "source": [
    "## 9) Potion Ingredient Tracker\n",
    "🧪✨📜\n",
    "\n",
    "As an aspiring alchemist, you need to keep track of the ingredients you have added into your brewing cauldron. Your task is to create a program that allows you to manage your cauldron using a dictionary.\n",
    "The cauldron can only hold up to a total of 50.0 units of power\n",
    "\n",
    "<h4>Instructions:</h4>\n",
    "\n",
    "1. Create an empty dictionary called `cauldron`.\n",
    "2. Write a function `add_ingredient` that takes two parameters:\n",
    "    - `name` which is a string variable that contains the name of the ingredient\n",
    "    - `unit` which is a float variable that contains the amount of power the ingredient contains \n",
    "    - This function should add the ingredient to the `cauldron` dictionary or update the power if the ingredient already exists.\n",
    "    - If adding the ingredient would exceed the limit of the cauldron, print an error message instead.\n",
    "3. Write a function `remove_ingredient` that takes one parameter:\n",
    "    - `name`which is a string variable to identify the ingredient with \n",
    "    - This function should remove the ingredient from the cauldron ENTIRELY if it exists, or print a message if it does not.\n",
    "4. Write a function `get_total_power` that does not take in any parameter:\n",
    "    - This function should return the total power of all the ingredients in the cauldron."
   ]
  },
  {
   "cell_type": "code",
   "execution_count": 3,
   "metadata": {},
   "outputs": [],
   "source": [
    "# Input your code here\n",
    "\n",
    "\n"
   ]
  },
  {
   "cell_type": "code",
   "execution_count": null,
   "metadata": {},
   "outputs": [],
   "source": [
    "# Run these to check your answers\n",
    "cauldron = {}\n",
    "\n",
    "add_ingredient(\"Banana\", 15.5)\n",
    "add_ingredient(\"Banana\",15.5)\n",
    "add_ingredient(\"Bat-wings\",10)\n",
    "get_total_power()\n",
    "add_ingredient(\"Milk\",50)\n",
    "remove_ingredient(\"Chocolate\")\n",
    "remove_ingredient(\"Banana\")\n",
    "get_total_power()"
   ]
  },
  {
   "cell_type": "markdown",
   "metadata": {},
   "source": [
    "## 10) Kung Fu Panda List\n",
    "Grand Master Oogway has come back to life -> 🐢☯️!!!!\n",
    "\n",
    "The master is holding a worldwide competition, he has even open the gates of the spirit world ⛩️ so more people can join.\n",
    "\n",
    "However, he does not have a good application system and numerous kung fu masters have accidentally submitted their application more then once. \n",
    "\n",
    "Please help this old turtle filter out all the extra registrations and make a new list that doesn't have any duplicates!!"
   ]
  },
  {
   "cell_type": "code",
   "execution_count": null,
   "metadata": {},
   "outputs": [],
   "source": [
    "#This code is given | DO NOT TOUCH!!!\n",
    "application_list = [\"Tai Lung\", \"Mr. Ping\", \"Fung\", \"Po\", \"Master Tigress\", \"Master Boar\", \"Master Crane\", \"Jack Black\", \"Master Mantis\", \"Kai\", \"Master Viper\", \"Master Monkey\", \"Master Shifu\", \"Grand Twin Weasels\", \"Jack Black\", \"Master Frog\", \"Master Leopard\", \"Master Antelope\", \"Master Croc\", \"Master Boar\", \"Master Storming Ox\", \"Master Frog\", \"Master Wolf\", \"Master Eagle\", \"Master Boar\", \"Master Elephant\", \"Kai\", \"Jack Black\", \"Master Rooster\", \"Po\", \"Jack Black\", \"Po\", \"Master Shengqi\", \"Master Tigress\", \"Tai Lung\", \"Lord Shen\", \"Kai\", \"Master Tigress\", \"Wu Sisters\", \"Qinchu\", \"Scorpion\", \"Tai Lung\", \"Lidong\", \"Master Boar\", \"Taotie\", \"Bao\", \"General Tsin\", \"Po\", \"Kai\", \"Jack Black\", \"Tai Lung\", \"Mr. Ping\", \"Fung\", \"Po\", \"Master Tigress\", \"Master Boar\", \"Master Crane\", \"Jack Black\", \"Master Mantis\", \"Kai\", \"Master Viper\", \"Master Monkey\", \"Master Shifu\", \"Grand Twin Weasels\", \"Jack Black\", \"Master Frog\", \"Master Leopard\", \"Master Antelope\", \"Master Croc\", \"Master Boar\", \"Master Storming Ox\", \"Master Frog\", \"Master Wolf\", \"Master Eagle\", \"Master Boar\", \"Master Elephant\", \"Kai\", \"Jack Black\", \"Master Rooster\", \"Po\", \"Jack Black\", \"Po\", \"Master Shengqi\", \"Master Tigress\", \"Tai Lung\", \"Lord Shen\", \"Kai\", \"Master Tigress\", \"Wu Sisters\", \"Qinchu\", \"Scorpion\", \"Tai Lung\", \"Lidong\", \"Master Boar\", \"Taotie\", \"Bao\", \"General Tsin\", \"Po\", \"Kai\", \"Jack Black\"]\n",
    "\n",
    "# Input your code here\n",
    "\n"
   ]
  },
  {
   "cell_type": "markdown",
   "metadata": {},
   "source": [
    "## BONUS COMPLEXITY QUESTIONS"
   ]
  },
  {
   "cell_type": "code",
   "execution_count": null,
   "metadata": {},
   "outputs": [],
   "source": [
    "\n",
    "# 1. What is the time complexity of the following code?\n",
    "def find_max(arr):\n",
    "    max_val = arr[0]\n",
    "    for x in arr:\n",
    "        if x > max_val:\n",
    "            max_val = x\n",
    "    return max_val\n",
    "\n",
    "# 2. What is the time complexity of the following code?\n",
    "def print_first_three(arr):\n",
    "    for i in range(min(3, len(arr))):\n",
    "        print(arr[i])\n",
    "\n",
    "# 3. What is the time complexity of the following code?\n",
    "def print_middle(arr):\n",
    "    print(arr[len(arr)//2])\n",
    "\n",
    "# 4. What is the time complexity of the following code?\n",
    "def print_unique_pairs(arr):\n",
    "    for i in range(len(arr)):\n",
    "        for j in range(i+1, len(arr)):\n",
    "            print(arr[i], arr[j])\n",
    "            \n",
    "# 5. What is the time complexity of the following code?\n",
    "def print_sum_two_lists(arr1, arr2):\n",
    "    for x in arr1:\n",
    "        print(x)\n",
    "    for y in arr2:\n",
    "        print(y)\n",
    "# (Assume len(arr1) = n, len(arr2) = m)"
   ]
  }
 ],
 "metadata": {
  "kernelspec": {
   "display_name": "Python 3",
   "language": "python",
   "name": "python3"
  },
  "language_info": {
   "codemirror_mode": {
    "name": "ipython",
    "version": 3
   },
   "file_extension": ".py",
   "mimetype": "text/x-python",
   "name": "python",
   "nbconvert_exporter": "python",
   "pygments_lexer": "ipython3",
   "version": "3.11.9"
  }
 },
 "nbformat": 4,
 "nbformat_minor": 2
}
